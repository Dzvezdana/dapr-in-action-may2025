{
 "cells": [
  {
   "cell_type": "markdown",
   "metadata": {
    "id": "7sDmdO-FVQpj"
   },
   "source": [
    "# Dapr in Action: From Core Concepts to AI Agents\n",
    "\n",
    "Welcome to second part of our introductory workshop!"
   ]
  },
  {
   "cell_type": "markdown",
   "metadata": {
    "id": "91O__Zygymip"
   },
   "source": [
    "## Notebook 2. Creating Your First Tools"
   ]
  },
  {
   "cell_type": "markdown",
   "metadata": {
    "id": "959PkURMVWdI"
   },
   "source": [
    "This notebook demonstrates how we can create tools for our AI Agent. We will learn:\n",
    "\n",
    "* What is a tool and how it's used by AI Agents.\n",
    "* How to choose the right tools.\n",
    "\n",
    "\n",
    "We will explore these concepts by creating a simple productivity bot.\n",
    "\n",
    "Imagine you want to stay updated with the latest news and stock market trends, but you don't have time to browse through everything yourself. Well, with the help of an AI agent, you don't have to! This agent can automatically gather, summarize, and explain the daily news for you. It can even check stock prices for specific companies and analyze the sentiment behind the news.\n",
    "\n",
    "Your agent will leverage two powerful tools:\n",
    "\n",
    "* [currentsapi](https://currentsapi.services/en) which can fetch global and local news\n",
    "* the [Yahoo Stock Market API](https://ranaroussi.github.io/yfinance/)\n",
    "\n",
    "and an LLM to summarize the news we fetch using the currentsapi.\n",
    "\n",
    "But first, a quick recap!"
   ]
  },
  {
   "cell_type": "markdown",
   "metadata": {
    "id": "mZ-046LOVvX5"
   },
   "source": [
    "### What are AI Agents?\n",
    "\n",
    "AI agents are systems that understand tasks, make decisions, and take actions autonomously. They use large language models (LLMs) as their \"brain\" for reasoning and planning, while leveraging external tools like APIs to access real-time information and interact with the world. Their behavior is non-deterministic—they may respond differently to the same input because LLMs can generate varied outputs, and the information they retrieve through tools may change depending on when or how they access it.\n",
    "\n",
    "#### When to Use AI Agents?\n",
    "\n",
    "* Open-ended problems: allowing the LLM to determine needed steps to complete a task because it can't always be hardcoded into a workflow.\n",
    "* Multi-step processes: tasks that require a level of complexity in which the AI Agent needs to use tools or information over multiple turns instead of single shot retrieval.\n",
    "* Improvement over time: tasks where the agent can improve over time by receiving feedback from either its environment or users in order to provide better utility.\n",
    "\n",
    "### Choosing between an LLMs or an API\n",
    "\n",
    "Use an LLM when you need:\n",
    "\n",
    "* Explanations, general knowledge, or educational content.\n",
    "* Creative writing, content generation, or brainstorming.\n",
    "* Conversational interactions, personal assistance, or reminders.\n",
    "* NLP tasks like summarization, sentiment analysis, and translations\n",
    "\n",
    "Use an API when you need:\n",
    "\n",
    "* Real-time or up-to-date information (e.g., stock prices, weather).\n",
    "* Structured, specific data (e.g., country statistics, flight info).\n",
    "* Access to external services (e.g., payment processing, user authentication).\n",
    "\n",
    "Now let's go ahead with the exercise!"
   ]
  },
  {
   "cell_type": "markdown",
   "metadata": {
    "id": "bJpTEOZ_7mvZ"
   },
   "source": [
    "#### **[Only if you are using Google Colab]** Setting up dependencies\n",
    "\n",
    "Google Colab notebooks don't share dependencies, so we have to install them agian."
   ]
  },
  {
   "cell_type": "code",
   "execution_count": null,
   "metadata": {
    "id": "UUhLZ5mQ71Nc"
   },
   "outputs": [],
   "source": [
    "!pip install dapr-agents==0.5.1\n",
    "!pip install yfinance>=0.2.61"
   ]
  },
  {
   "cell_type": "code",
   "execution_count": null,
   "metadata": {
    "id": "iKuQM5yh8IyZ"
   },
   "outputs": [],
   "source": [
    "import os\n",
    "\n",
    "from google.colab import userdata\n",
    "\n",
    "os.environ[\"HUGGINGFACE_API_KEY\"] = userdata.get('HUGGINGFACE_API_KEY')\n",
    "os.environ[\"CURRENTS_API_KEY\"] = userdata.get('CURRENTS_API_KEY')"
   ]
  },
  {
   "cell_type": "markdown",
   "metadata": {
    "id": "vz9vnsZm8oWR"
   },
   "source": [
    "#### **[Only if you are using Jupyter Notebooks]** Setting up secrets\n",
    "\n",
    "We need to re-import the secrets by executing the cell below."
   ]
  },
  {
   "cell_type": "code",
   "execution_count": 1,
   "metadata": {
    "id": "FOEIsU1m8sB-"
   },
   "outputs": [],
   "source": [
    "import os\n",
    "\n",
    "import helper_secrets\n",
    "\n",
    "os.environ[\"HUGGINGFACE_API_KEY\"] = helper_secrets.HUGGINGFACE_API_KEY\n",
    "os.environ[\"CURRENTS_API_KEY\"] = helper_secrets.CURRENTS_API_KEY"
   ]
  },
  {
   "cell_type": "markdown",
   "metadata": {
    "id": "jT4gMTW0XQUE"
   },
   "source": [
    "#### Exercise 2 (a): Explore CurrentsAPI news tool\n",
    "\n",
    "Let's inpect our first tool! This cell sends an API request to the CurrentsAPI and retrieves a list of N business news headlines, which are then returned as a simple list of titles for further use or analysis.\n",
    "\n",
    "This will allow our Agent to fetch the latest news titles."
   ]
  },
  {
   "cell_type": "code",
   "execution_count": 2,
   "metadata": {
    "id": "fC-iyRLpa_TJ"
   },
   "outputs": [],
   "source": [
    "import os\n",
    "import requests"
   ]
  },
  {
   "cell_type": "code",
   "execution_count": 3,
   "metadata": {
    "id": "t7_Gg16KWN4J"
   },
   "outputs": [],
   "source": [
    "def get_latest_news() -> list:\n",
    "    \"\"\"\n",
    "    Fetch the current news.\n",
    "    \"\"\"\n",
    "    url = \"https://api.currentsapi.services/v1/latest-news?category=business&country=US\"\n",
    "    params = {\n",
    "        'apiKey': os.getenv('CURRENTS_API_KEY')\n",
    "    }\n",
    "    response = requests.get(url, params=params)\n",
    "\n",
    "    if response.status_code == 200:\n",
    "        data = response.json()\n",
    "\n",
    "        titles = [article['title'] for article in data['news'][:2]]\n",
    "        return titles\n",
    "    else:\n",
    "        print(f\"Error fetching data from Currents API: {response.status_code}\")\n",
    "        return []"
   ]
  },
  {
   "cell_type": "code",
   "execution_count": 4,
   "metadata": {
    "colab": {
     "base_uri": "https://localhost:8080/"
    },
    "id": "LFfc8ULYZ1TM",
    "outputId": "33c34d4f-d304-4a1b-d123-077b6fe0ee68"
   },
   "outputs": [
    {
     "data": {
      "text/plain": [
       "['Waaree Renewable Technologies Wins Rs 114 Crore Solar Project Order',\n",
       " 'JSW Steel To Consider Fundraise Via QIP, NCD Issue On May 23']"
      ]
     },
     "execution_count": 4,
     "metadata": {},
     "output_type": "execute_result"
    }
   ],
   "source": [
    "get_latest_news()"
   ]
  },
  {
   "cell_type": "markdown",
   "metadata": {
    "id": "KWjuAQ_rYB3y"
   },
   "source": [
    "#### Exercise 2 (b): Create stocks tool\n",
    "\n",
    "The goal is to build a tool that fetches the current stock price for a given company using the [Yahoo Stock library](https://ranaroussi.github.io/yfinance/), which is a wrapper around the Yahoo Stocks API.\n",
    "\n",
    "Create a tool that fetches the current stock price for a given company. We provide the [ticker symbol](https://stockanalysis.com/stocks/) as input. A ticker symbol is a unique series of letters assigned to a publicly traded company's stock for identification on a stock exchange."
   ]
  },
  {
   "cell_type": "code",
   "execution_count": 5,
   "metadata": {
    "id": "LF5ZJlTVbRPC"
   },
   "outputs": [],
   "source": [
    "import yfinance as yf"
   ]
  },
  {
   "cell_type": "code",
   "execution_count": null,
   "metadata": {
    "id": "s56oC7YdWPqy"
   },
   "outputs": [],
   "source": [
    "def get_stock_price(stock_symbol: str) -> str:\n",
    "    \"\"\"Fetch the stock price for a given company that the user provides\"\"\"\n",
    "    # TODO: insert your code here\n",
    "    return"
   ]
  },
  {
   "cell_type": "markdown",
   "metadata": {
    "id": "UU1nyoAUYeTw"
   },
   "source": [
    "Let's test the function and fetch the stock price of NVIDIA."
   ]
  },
  {
   "cell_type": "code",
   "execution_count": 7,
   "metadata": {
    "colab": {
     "base_uri": "https://localhost:8080/"
    },
    "id": "m9QhdN60Yd70",
    "outputId": "11ebabce-63f3-45f0-fa47-cd76dccd65b9"
   },
   "outputs": [
    {
     "name": "stderr",
     "output_type": "stream",
     "text": [
      "/var/folders/5c/pdb6qq3n6wqgn24vlj3swnj40000gn/T/ipykernel_19280/2307623958.py:3: FutureWarning: Series.__getitem__ treating keys as positions is deprecated. In a future version, integer keys will always be treated as labels (consistent with DataFrame behavior). To access a value by position, use `ser.iloc[pos]`\n",
      "  return stock.history(period=\"1d\")[\"Close\"][0]\n"
     ]
    },
    {
     "data": {
      "text/plain": [
       "np.float64(134.8300018310547)"
      ]
     },
     "execution_count": 7,
     "metadata": {},
     "output_type": "execute_result"
    }
   ],
   "source": [
    "get_stock_price(\"NVDA\")"
   ]
  },
  {
   "cell_type": "markdown",
   "metadata": {
    "id": "qQFDiXy9ZAmb"
   },
   "source": [
    "#### Exercise 2 (c): Use an LLM to summarize the news\n",
    "\n",
    "The goal of this excercuse is to build a tool that analyzes and summarizes the news titles we fetched in the get_latest_news() tool."
   ]
  },
  {
   "cell_type": "markdown",
   "metadata": {
    "id": "ncDqu8qpbUQW"
   },
   "source": [
    "Hint:\n",
    "\n",
    "* Initialize the HuggingFace client.\n",
    "* Prompt the LLM to summarize the given new titles."
   ]
  },
  {
   "cell_type": "code",
   "execution_count": null,
   "metadata": {
    "id": "UQqw9sVibxt1"
   },
   "outputs": [],
   "source": [
    "from dapr_agents import HFHubChatClient\n",
    "from dapr_agents.types import UserMessage"
   ]
  },
  {
   "cell_type": "code",
   "execution_count": null,
   "metadata": {
    "id": "HXHFpOAg802O"
   },
   "outputs": [],
   "source": [
    "news_titles = get_latest_news()"
   ]
  },
  {
   "cell_type": "code",
   "execution_count": null,
   "metadata": {
    "id": "LKtFoDjSZPvW"
   },
   "outputs": [],
   "source": [
    "# TODO: insert your code here\n",
    "llm = HFHubChatClient(\"\")\n",
    "\n",
    "def summarize_news(titles: list) -> str:\n",
    "    \"\"\"Summarize the daily news\"\"\"\n",
    "    # TODO: insert your code here"
   ]
  },
  {
   "cell_type": "markdown",
   "metadata": {
    "id": "C4hpJcwxbpCn"
   },
   "source": [
    "Let's test our news summarization tool!"
   ]
  },
  {
   "cell_type": "code",
   "execution_count": null,
   "metadata": {
    "colab": {
     "base_uri": "https://localhost:8080/",
     "height": 125
    },
    "id": "5d8kZKYCbJrG",
    "outputId": "f3282d8a-b53f-4eb0-cd06-8ba6da77673c"
   },
   "outputs": [
    {
     "data": {
      "application/vnd.google.colaboratory.intrinsic+json": {
       "type": "string"
      },
      "text/plain": [
       "'Two distinct yet interesting current events from daily news can be summarized as follows:\\n\\n1. NFL Quarterback Turns to Horse Racing: Lamar Jackson, renowned NFL quarterback for the Baltimore Ravens, has diversified his horizons beyond the gridiron and entered the world of horse racing. He developed his own racing team, perhaps looking to extend his athletic endeavors and leverage his fame and public interest in the sports. This move shows Jackson’s ambition and drive to explore new ventures, engage with fans on different fronts, and possibly capitalize on his name recognition in a sister sport.\\n\\n2. The Echoes of a Remarkable Strategy in Stock Market Terms – Manishi Raychaudhuri\\'s Analogy: Manishi Raychaudhuri, presumably an expert on market dynamics or investment strategies, characterizes the intermittent slow down in market momentum as a \"Nifty Pause.\" According to his view, this cautious approach indicates that the market might be testing the waters before potentially scaling new heights. Such an interpretation suggests market participants are perhaps waiting to assess investment opportunities and potential economic indicators with careful consideration, following any recent market fluctuations.\\n\\nThese news items reflect activities in different yet financially and publicly significant domains—Lamar Jackson’s transition into horse racing and Raychaudhuri’s explanation of market behavior. Each conveys a snapshot of multifaceted engagement from individuals and analysts who influence or respond to their respective fields\\' trends and dynamics.'"
      ]
     },
     "execution_count": 17,
     "metadata": {},
     "output_type": "execute_result"
    }
   ],
   "source": [
    "print(summarize_news(news_titles))"
   ]
  },
  {
   "cell_type": "markdown",
   "metadata": {
    "id": "78SJIw3ackk4"
   },
   "source": [
    "These exercises demonstrates that tools are essentially just functions, which we will later integrate as tools for our agent. In the next notebook, we will bring everything together."
   ]
  }
 ],
 "metadata": {
  "colab": {
   "provenance": []
  },
  "kernelspec": {
   "display_name": "Python 3 (ipykernel)",
   "language": "python",
   "name": "python3"
  },
  "language_info": {
   "codemirror_mode": {
    "name": "ipython",
    "version": 3
   },
   "file_extension": ".py",
   "mimetype": "text/x-python",
   "name": "python",
   "nbconvert_exporter": "python",
   "pygments_lexer": "ipython3",
   "version": "3.11.4"
  }
 },
 "nbformat": 4,
 "nbformat_minor": 4
}
